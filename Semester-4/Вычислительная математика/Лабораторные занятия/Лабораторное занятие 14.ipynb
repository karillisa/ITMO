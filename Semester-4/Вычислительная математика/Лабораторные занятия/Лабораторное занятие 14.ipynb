{
  "cells": [
    {
      "cell_type": "markdown",
      "id": "1e9cded8",
      "metadata": {
        "id": "1e9cded8"
      },
      "source": [
        "# Практическое занятие 14: Умножение матриц и оптимизация математического кода"
      ]
    },
    {
      "cell_type": "markdown",
      "id": "8f494ae0",
      "metadata": {
        "id": "8f494ae0"
      },
      "source": [
        "**Задача: используйте все доступные средства, чтобы ускорить умножение матриц** (AI, научные и технические статьи, профилировщики, фреймворки, всё что угодно).\n",
        "\n",
        "Вы можете переписывать код на другие алгоритмы, использовать разные библиотеки, компилировать Python код, использовать фреймворк CUDA, другие интерпретаторы, переписывать на другие языки программирования (например C/C++), всё что угодно. Процесс конспектируйте в этот ноутбук (включая общение с AI). Если решили изменить язык программирования или ядро (Jupyter kernel) ноутбука, указывайте их в виде текста, пожалуйста.\n",
        "\n",
        "Промежуточные результаты отправляйте в таблицу, используя метод `send_results`.\n",
        "\n",
        "*Помните, что AI пока не очень хороши в оптимизации и ускорении кода, но вот с теорией разобраться помогут.*\n",
        "\n",
        "Разумеется, я понимаю, что начать может быть трудно, но принцип learn by practice никто не отменял: нельзя научиться играть на пианино, изучая только ноты, нельзя разобраться в математике, заучивая формулы, не применяя их на практике, нельзя научиться оптимизировать код, не пробуя сделать это руками. 🥰Вы обязательно со всем справитесь, но нужно пробовать и быть смелее!"
      ]
    },
    {
      "cell_type": "code",
      "execution_count": 40,
      "id": "5a3bf905",
      "metadata": {
        "id": "5a3bf905",
        "colab": {
          "base_uri": "https://localhost:8080/"
        },
        "outputId": "480ec85c-202f-452e-f55a-3096118f266b"
      },
      "outputs": [
        {
          "output_type": "stream",
          "name": "stdout",
          "text": [
            "Requirement already satisfied: gspread in /usr/local/lib/python3.11/dist-packages (6.2.0)\n",
            "Requirement already satisfied: google-auth>=1.12.0 in /usr/local/lib/python3.11/dist-packages (from gspread) (2.38.0)\n",
            "Requirement already satisfied: google-auth-oauthlib>=0.4.1 in /usr/local/lib/python3.11/dist-packages (from gspread) (1.2.2)\n",
            "Requirement already satisfied: cachetools<6.0,>=2.0.0 in /usr/local/lib/python3.11/dist-packages (from google-auth>=1.12.0->gspread) (5.5.2)\n",
            "Requirement already satisfied: pyasn1-modules>=0.2.1 in /usr/local/lib/python3.11/dist-packages (from google-auth>=1.12.0->gspread) (0.4.2)\n",
            "Requirement already satisfied: rsa<5,>=3.1.4 in /usr/local/lib/python3.11/dist-packages (from google-auth>=1.12.0->gspread) (4.9.1)\n",
            "Requirement already satisfied: requests-oauthlib>=0.7.0 in /usr/local/lib/python3.11/dist-packages (from google-auth-oauthlib>=0.4.1->gspread) (2.0.0)\n",
            "Requirement already satisfied: pyasn1<0.7.0,>=0.6.1 in /usr/local/lib/python3.11/dist-packages (from pyasn1-modules>=0.2.1->google-auth>=1.12.0->gspread) (0.6.1)\n",
            "Requirement already satisfied: oauthlib>=3.0.0 in /usr/local/lib/python3.11/dist-packages (from requests-oauthlib>=0.7.0->google-auth-oauthlib>=0.4.1->gspread) (3.2.2)\n",
            "Requirement already satisfied: requests>=2.0.0 in /usr/local/lib/python3.11/dist-packages (from requests-oauthlib>=0.7.0->google-auth-oauthlib>=0.4.1->gspread) (2.32.3)\n",
            "Requirement already satisfied: charset-normalizer<4,>=2 in /usr/local/lib/python3.11/dist-packages (from requests>=2.0.0->requests-oauthlib>=0.7.0->google-auth-oauthlib>=0.4.1->gspread) (3.4.2)\n",
            "Requirement already satisfied: idna<4,>=2.5 in /usr/local/lib/python3.11/dist-packages (from requests>=2.0.0->requests-oauthlib>=0.7.0->google-auth-oauthlib>=0.4.1->gspread) (3.10)\n",
            "Requirement already satisfied: urllib3<3,>=1.21.1 in /usr/local/lib/python3.11/dist-packages (from requests>=2.0.0->requests-oauthlib>=0.7.0->google-auth-oauthlib>=0.4.1->gspread) (2.4.0)\n",
            "Requirement already satisfied: certifi>=2017.4.17 in /usr/local/lib/python3.11/dist-packages (from requests>=2.0.0->requests-oauthlib>=0.7.0->google-auth-oauthlib>=0.4.1->gspread) (2025.4.26)\n"
          ]
        }
      ],
      "source": [
        "!pip install gspread"
      ]
    },
    {
      "cell_type": "code",
      "execution_count": 41,
      "id": "bd0cf559",
      "metadata": {
        "id": "bd0cf559"
      },
      "outputs": [],
      "source": [
        "import datetime\n",
        "import gspread\n",
        "from google.auth import default\n",
        "from google.colab import auth\n",
        "\n",
        "auth.authenticate_user()\n",
        "creds, _ = default()\n",
        "\n",
        "gc = gspread.authorize(creds)\n",
        "\n",
        "# Пожалуйста, укажите свой реальный номер ИСУ.\n",
        "# Вне зависимости от полученных Вами значений, важен прогресс, на баллах за практику значения алгоритма не скажутся, но отсутствие прогресса - скажется.\n",
        "# Не бойтесь чаще делиться прогрессом, давайте посмотрим, чего мы можем добиться все вместе!\n",
        "my_isu_id = \"373432\"\n",
        "\n",
        "spreadsheet = gc.open_by_url(\"https://docs.google.com/spreadsheets/d/1D60V_sOW3SvMiquZXmM2zFAqQq_ViAbRdmu_nNNNqKg/edit?gid=0#gid=0\")\n",
        "# Если Вы решили пойти дальше и решение у Вас локально и на другом ЯП, напишите мне, я пришлю Вам полную ссылку для записи результатов\n",
        "worksheet = spreadsheet.get_worksheet(0)\n",
        "\n",
        "\n",
        "def send_results(computation_time, comment):\n",
        "    if my_isu_id == \"CHANGE_ME\": # Да, вот такая примитивная проверка, которую Вы разумеется можете обойти, но зачем? Так ведь не интересно!\n",
        "        print(\"Please set your ISU ID in the script.\")\n",
        "    else:\n",
        "        # А данные я вовсе не проверяю, всё Вам на доверии.\n",
        "        # В качестве тестовой матрицы давайте договоримся использовать n=1000\n",
        "        # С данными о времени исполнения отправьте , пожалуйста, комментарий, что Вы делали, чтобы получить его, это может быть полезно и Вам в качестве лога.\n",
        "        submission_data = [my_isu_id, computation_time, comment, datetime.datetime.now(datetime.timezone.utc).isoformat()]\n",
        "        worksheet.append_row(submission_data)\n"
      ]
    },
    {
      "cell_type": "markdown",
      "id": "0OPdgy5S9ejG",
      "metadata": {
        "id": "0OPdgy5S9ejG"
      },
      "source": [
        "Пример использования функции отправки результатов:"
      ]
    },
    {
      "cell_type": "code",
      "execution_count": 42,
      "id": "3uvWVTqz7Ouk",
      "metadata": {
        "id": "3uvWVTqz7Ouk"
      },
      "outputs": [],
      "source": [
        "import time\n",
        "\n",
        "a = time.time()\n",
        "time.sleep(100)\n",
        "b = time.time()\n",
        "\n",
        "computation_time = b - a\n",
        "send_results(computation_time, \"test\")"
      ]
    },
    {
      "cell_type": "markdown",
      "id": "mpSzXCTTGwe5",
      "metadata": {
        "id": "mpSzXCTTGwe5"
      },
      "source": [
        "### Статьи:\n",
        "- [Matrix Multiplication: 2020 Update](https://martin-thoma.com/matrix-multiplication-2020/)\n",
        "- [Discovering faster matrix multiplication algorithms with reinforcement learning](https://www.nature.com/articles/s41586-022-05172-4#data-availability)\n",
        "- [Ускоряем анализ данных в 170 000 раз с помощью Python](https://habr.com/ru/companies/ncloudtech/articles/790370/)\n",
        "- [Книга: High Performance Python](https://disk.yandex.ru/i/GNbAQkPgbK07VQ)\n",
        "- [Книга: Introduction to High Performance Computing for Scientists](https://disk.yandex.ru/i/H6pFi9ydA2pbbg)\n",
        "- [Книга: Scientific Computing with Python High-performance scientific computing with NumPy, SciPy, and pandas](https://disk.yandex.ru/i/xaBdcbN5yx9gaA)\n",
        "- [Книга: Matrix computations](https://disk.yandex.ru/i/RfL8Ca9Q0341vA)\n",
        "- [Статья 2021: Selecting Algorithms for Black Box Matrices: Checking for\n",
        "Matrix Properties That Can Simplify Computations](https://disk.yandex.ru/i/oTMSLOJd1xZBXQ)\n",
        "- [Cтатья 2024 от Alman и Williams: A refined Laser Method and Faster Matrix Muliplication](https://disk.yandex.ru/i/bNxAS2M3-OoM_Q)\n",
        "- [Статья: Anatomy of High-Performance Matrix Multiplication](https://disk.yandex.ru/i/bBnyORYiXFwsFw)\n",
        "- [Статья 1997: Implementation of Strassen's Algorithm for Matrix Multiplication](https://disk.yandex.ru/i/nvlvKJciVuOwmw)\n",
        "- [Numerical algorithms for high-performance computational science](https://disk.yandex.ru/i/9nhTq2ZbSjyCxw)\n",
        "- [Статья Nature 2021: Discovering faster matrix multiplication\n",
        "algorithms with reinforcement learning](https://disk.yandex.ru/i/Lu6A9BNzlV-wWg)\n",
        "- [Книга: Optimisation of a modern numerical library: a bottom-up approach](https://disk.yandex.ru/i/czZCCiV7TLf68w)\n",
        "- [Книга: A Primer on Scientific Programming with Python](https://disk.yandex.ru/i/2409GOx6pcLS_w)\n",
        "- [Слайды: High-performance Matrix Computations](https://disk.yandex.ru/i/XqOAFw-nDskoEw)\n",
        "- [Слайды: Strassen’s Algorithm for Matrix Multiplication, QuickSelect, and Median of Medians](https://disk.yandex.ru/i/cJB-2JCqr216Tg)\n",
        "- [Слайды: Communication-Avoiding Algorithms for Linear Algebra, Machine Learning and Beyond](https://disk.yandex.ru/i/xuaa9LITj6SKUw) + [видео](https://www.youtube.com/watch?v=JwCWPteaih4)"
      ]
    },
    {
      "cell_type": "markdown",
      "id": "fb101e5f",
      "metadata": {
        "id": "fb101e5f"
      },
      "source": [
        "\n",
        "\n",
        "\n",
        "### Инструменты (профилировщики):\n",
        "*разумеется, нет необходимости использовать их все, выбирайте необходимый инструмент для Вашей задачи*\n",
        "- [line profiler](https://kernprof.readthedocs.io/en/latest/) : line-by-line profiling of functions\n",
        "- [Scalene](https://github.com/plasma-umass/scalene) : A CPU+GPU+memory sampling based profiler.\n",
        "- [PyInstrument](https://github.com/joerick/pyinstrument) : A call stack profiler\n",
        "- [Yappi](https://github.com/sumerc/yappi) : A tracing profiler that is multithreading, asyncio and gevent aware.\n",
        "- [profile / cProfile](https://docs.python.org/3/library/profile.html) : The builtin profile module.\n",
        "- [SnakeViz](https://jiffyclub.github.io/snakeviz/) : vizualise of cProfile output.\n",
        "- [timeit](https://docs.python.org/3/library/timeit.html) : The builtin timeit module for profiling single statements\n",
        "- [timerit](https://github.com/Erotemic/timerit) : A multi-statements alternative to the builtin timeit module.\n",
        "- [torch.profiler](https://docs.pytorch.org/docs/stable/profiler.html) : tools for profiling torch code\n",
        "\n",
        "### Интерпретаторы и компиляторы\n",
        "- [Python 3.11.3](https://www.python.org/downloads/release/python-3113/)\n",
        "- [PyPy](https://pypy.org/)\n",
        "- [Другие трасляторы и их бенчмарки](https://pybenchmarks.org/)\n",
        "- [Список ядер для Jupyter Notebook под разные ЯП](https://github.com/jupyter/jupyter/wiki/Jupyter-kernels)"
      ]
    },
    {
      "cell_type": "markdown",
      "id": "9UE6JWSy-O96",
      "metadata": {
        "id": "9UE6JWSy-O96"
      },
      "source": [
        "Наивная ijk реализация алгоритма"
      ]
    },
    {
      "cell_type": "code",
      "execution_count": 43,
      "id": "7faa30e2",
      "metadata": {
        "id": "7faa30e2"
      },
      "outputs": [],
      "source": [
        "import numpy as np\n",
        "import time\n",
        "\n",
        "n = 10000\n",
        "x = np.random.randn(n,n)\n",
        "\n",
        "def matrix_mult(A, B):\n",
        "    \"\"\"Multiplies two matrices A and B.\"\"\"\n",
        "    if len(A[0]) != len(B):\n",
        "        raise ValueError(\"Number of columns in A must be equal to number of rows in B\")\n",
        "\n",
        "    result = []\n",
        "    for i in range(len(A)):\n",
        "        row = []\n",
        "        for j in range(len(B[0])):\n",
        "            sum = 0\n",
        "            for k in range(len(B)):\n",
        "                sum += A[i][k] * B[k][j]\n",
        "            row.append(sum)\n",
        "        result.append(row)\n",
        "    return result"
      ]
    },
    {
      "cell_type": "markdown",
      "id": "jXceWK8_0LYj",
      "metadata": {
        "id": "jXceWK8_0LYj"
      },
      "source": [
        "Установите необходимые библиотеки, профилировщики и прочее."
      ]
    },
    {
      "cell_type": "code",
      "execution_count": 44,
      "id": "whIBYUkL0GkP",
      "metadata": {
        "id": "whIBYUkL0GkP",
        "colab": {
          "base_uri": "https://localhost:8080/"
        },
        "outputId": "0c667ca8-e097-4bb2-fb66-cd00fc92dbca"
      },
      "outputs": [
        {
          "output_type": "stream",
          "name": "stdout",
          "text": [
            "Requirement already satisfied: numba in /usr/local/lib/python3.11/dist-packages (0.60.0)\n",
            "Requirement already satisfied: line_profiler in /usr/local/lib/python3.11/dist-packages (4.2.0)\n",
            "Requirement already satisfied: llvmlite<0.44,>=0.43.0dev0 in /usr/local/lib/python3.11/dist-packages (from numba) (0.43.0)\n",
            "Requirement already satisfied: numpy<2.1,>=1.22 in /usr/local/lib/python3.11/dist-packages (from numba) (2.0.2)\n"
          ]
        }
      ],
      "source": [
        "! pip install numba line_profiler"
      ]
    },
    {
      "cell_type": "markdown",
      "source": [
        "Поскольку мы уде импортировали NumPY, начну с простого и мощного - использование `np.dot()` или `@`. `@` выполняет умножение матриц с помощью высооптимизированного кода."
      ],
      "metadata": {
        "id": "gXJycMUoelTN"
      },
      "id": "gXJycMUoelTN"
    },
    {
      "cell_type": "code",
      "source": [
        "import numpy as np\n",
        "import time\n",
        "\n",
        "# Генерируем случайные матрицы\n",
        "n = 1000\n",
        "A = np.random.rand(n, n)\n",
        "B = np.random.rand(n, n)\n",
        "\n",
        "# Умножение с помощью NumPy\n",
        "start_time = time.time()\n",
        "C = A @ B  # То же самое, что и np.dot(A, B)\n",
        "end_time = time.time()\n",
        "\n",
        "computation_time = end_time - start_time\n",
        "print(f\"Time taken using NumPy: {computation_time:.4f} seconds\")\n",
        "send_results(computation_time, \"NumPy matmul (@)\")"
      ],
      "metadata": {
        "colab": {
          "base_uri": "https://localhost:8080/"
        },
        "id": "AW0DBuXiehzj",
        "outputId": "7c7bb586-6e6e-4a40-950a-e686bd3db1e3"
      },
      "id": "AW0DBuXiehzj",
      "execution_count": 45,
      "outputs": [
        {
          "output_type": "stream",
          "name": "stdout",
          "text": [
            "Time taken using NumPy: 0.0678 seconds\n"
          ]
        }
      ]
    },
    {
      "cell_type": "markdown",
      "source": [
        "`@jit(nopython=True)` означает, что Numba полностью скомпилирует данный код в машинный код без использования интерпретатора Python и это устраняет все накладные расходы на вызовы Python-объектов, динамическую типизацию, словари и т. д."
      ],
      "metadata": {
        "id": "xXnV9J7qh9yi"
      },
      "id": "xXnV9J7qh9yi"
    },
    {
      "cell_type": "code",
      "source": [
        "from numba import jit\n",
        "import numpy as np\n",
        "import time\n",
        "\n",
        "@jit(nopython=True)\n",
        "def matrix_mult_numba(A, B):\n",
        "    n = A.shape[0]\n",
        "    m = B.shape[1]\n",
        "    p = B.shape[0]\n",
        "    result = np.zeros((n, m))\n",
        "    for i in range(n):\n",
        "        for k in range(p):\n",
        "            a_ik = A[i, k]\n",
        "            for j in range(m):\n",
        "                result[i, j] += a_ik * B[k, j]\n",
        "    return result\n",
        "\n",
        "# Тестирование\n",
        "n = 1000\n",
        "A = np.random.rand(n, n)\n",
        "B = np.random.rand(n, n)\n",
        "\n",
        "start_time = time.time()\n",
        "C = matrix_mult_numba(A, B)\n",
        "end_time = time.time()\n",
        "\n",
        "computation_time = end_time - start_time\n",
        "print(f\"Time taken using Numba: {computation_time:.4f} seconds\")\n",
        "send_results(computation_time, \"Numba JIT\")"
      ],
      "metadata": {
        "colab": {
          "base_uri": "https://localhost:8080/"
        },
        "id": "y7pOte0aftct",
        "outputId": "09a73295-067c-4bec-ca1e-2f7257d4797a"
      },
      "id": "y7pOte0aftct",
      "execution_count": 46,
      "outputs": [
        {
          "output_type": "stream",
          "name": "stdout",
          "text": [
            "Time taken using Numba: 3.2523 seconds\n"
          ]
        }
      ]
    },
    {
      "cell_type": "markdown",
      "id": "1ETYYWf107Jw",
      "metadata": {
        "id": "1ETYYWf107Jw"
      },
      "source": [
        "# Ваш ноутбук - это Ваше пространство!\n",
        "Смело экспериментируйте со способами оптимизации кода перемножения матриц! Список ниже - это просто идеи, но Вы не обязаны ему следовать и можете идти по собственному пути. Вставляйте любые нужные на Ваш взгляд ячейки, журналы принятых решений и общения с AI, дубликации кода для его версионирования - выразите себя в достижении цели!\n",
        "\n",
        "Не забывайте пользоваться профилировщиками кода, они помогут выявить проблемные места.🕵️\n",
        "\n",
        "Следующие методы используются в реальных системах и дают хороший простор для практики в оптимизации кода:\n",
        "\n",
        "### 1. 🔁 **Blocked (Tiled) Matrix Multiplication**\n",
        "\n",
        "#### 📌 What:\n",
        "\n",
        "* Divide matrices into **cache-sized blocks**.\n",
        "* Multiply blocks instead of individual elements to improve **cache locality**.\n",
        "\n",
        "#### 💡 Optimization Focus:\n",
        "\n",
        "* Loop tiling\n",
        "* Memory alignment\n",
        "* Cache usage (L1/L2)\n",
        "* Multi-threading (OpenMP, TBB)\n",
        "\n",
        "#### 🧪 Try This:"
      ]
    },
    {
      "cell_type": "code",
      "execution_count": 47,
      "id": "o8sL8Nxe4JS8",
      "metadata": {
        "id": "o8sL8Nxe4JS8",
        "colab": {
          "base_uri": "https://localhost:8080/"
        },
        "outputId": "acb2b606-045f-4c01-8f87-39f2d18527ec"
      },
      "outputs": [
        {
          "output_type": "stream",
          "name": "stdout",
          "text": [
            "Time using NumPy: 0.0575 seconds\n",
            "Time using Tiled Matrix Multiplication: 0.2109 seconds\n"
          ]
        }
      ],
      "source": [
        "import numpy as np\n",
        "import time\n",
        "\n",
        "def tiled_matrix_mult(A, B, block_size=64):\n",
        "\n",
        "    n, p = A.shape\n",
        "    p_, m = B.shape\n",
        "\n",
        "    assert p == p_, \"Число столбцов A должно быть равно числу строк B\"\n",
        "\n",
        "    result = np.zeros((n, m))\n",
        "\n",
        "    for i in range(0, n, block_size):\n",
        "        for j in range(0, m, block_size):\n",
        "            for k in range(0, p, block_size):\n",
        "                # Вырезаем блоки\n",
        "                A_block = A[i:min(i+block_size, n), k:min(k+block_size, p)]\n",
        "                B_block = B[k:min(k+block_size, p), j:min(j+block_size, m)]\n",
        "\n",
        "                # Перемножаем блоки\n",
        "                result[i:i+block_size, j:j+block_size] += A_block @ B_block\n",
        "\n",
        "    return result\n",
        "\n",
        "n = 1000\n",
        "block_size = 64  # Экспериментируйте с этим значением!\n",
        "\n",
        "# Генерируем случайные матрицы\n",
        "A = np.random.rand(n, n)\n",
        "B = np.random.rand(n, n)\n",
        "\n",
        "# Тестирование NumPy\n",
        "start_time = time.time()\n",
        "C_numpy = A @ B\n",
        "end_time = time.time()\n",
        "print(f\"Time using NumPy: {end_time - start_time:.4f} seconds\")\n",
        "\n",
        "# Тестирование блочного умножения\n",
        "start_time = time.time()\n",
        "C_tiled = tiled_matrix_mult(A, B, block_size)\n",
        "end_time = time.time()\n",
        "print(f\"Time using Tiled Matrix Multiplication: {end_time - start_time:.4f} seconds\")\n",
        "send_results(computation_time, \"Tiled\")"
      ]
    },
    {
      "cell_type": "markdown",
      "id": "-1nIG_LH4MDH",
      "metadata": {
        "id": "-1nIG_LH4MDH"
      },
      "source": [
        "---"
      ]
    },
    {
      "cell_type": "markdown",
      "id": "0mS2KaUB351L",
      "metadata": {
        "id": "0mS2KaUB351L"
      },
      "source": [
        "### 2. 🧮 **Strassen’s Algorithm**\n",
        "\n",
        "#### 📌 What:\n",
        "\n",
        "* Reduces mults from $n^3$ to $n^{2.81}$\n",
        "* Uses **recursion** + **addition/multiplication combination**\n",
        "\n",
        "#### 💡 Optimization Focus:\n",
        "\n",
        "* Recursive cutoff tuning (switch to naive at small size)\n",
        "* Memory reuse\n",
        "* Parallel recursion\n",
        "\n",
        "#### 🧪 Try This:\n"
      ]
    },
    {
      "cell_type": "code",
      "source": [
        "import numpy as np\n",
        "from numba import jit\n",
        "\n",
        "# Базовое умножение матриц\n",
        "@jit(nopython=True)\n",
        "def basic_matmul(A, B):\n",
        "    n, p, m = A.shape[0], A.shape[1], B.shape[1]\n",
        "    result = np.zeros((n, m))\n",
        "    for i in range(n):\n",
        "        for k in range(p):\n",
        "            a_ik = A[i, k]\n",
        "            for j in range(m):\n",
        "                result[i, j] += a_ik * B[k, j]\n",
        "    return result\n",
        "\n",
        "# Разбиение матрицы на четверти\n",
        "def split(matrix):\n",
        "    n, _ = matrix.shape\n",
        "    half = n // 2\n",
        "    return (\n",
        "        matrix[:half, :half],\n",
        "        matrix[:half, half:],\n",
        "        matrix[half:, :half],\n",
        "        matrix[half:, half:]\n",
        "    )\n",
        "\n",
        "# Рекурсивное умножение по Штрассену\n",
        "def strassen(A, B, cutoff=64):\n",
        "    n = A.shape[0]\n",
        "\n",
        "    # Базовый случай: если матрица мала — используем быстрое умножение\n",
        "    if n <= cutoff:\n",
        "        return basic_matmul(A, B)\n",
        "\n",
        "    # Деление матриц на четверти\n",
        "    A11, A12, A21, A22 = split(A)\n",
        "    B11, B12, B21, B22 = split(B)\n",
        "\n",
        "    # Вычисляем 7 промежуточных произведений\n",
        "    P1 = strassen(A11 + A22, B11 + B22, cutoff)\n",
        "    P2 = strassen(A21 + A22, B11, cutoff)\n",
        "    P3 = strassen(A11, B12 - B22, cutoff)\n",
        "    P4 = strassen(A22, B21 - B11, cutoff)\n",
        "    P5 = strassen(A11 + A12, B22, cutoff)\n",
        "    P6 = strassen(A21 - A11, B11 + B12, cutoff)\n",
        "    P7 = strassen(A12 - A22, B21 + B22, cutoff)\n",
        "\n",
        "    # Собираем результаты\n",
        "    C11 = P1 + P4 - P5 + P7\n",
        "    C12 = P3 + P5\n",
        "    C21 = P2 + P4\n",
        "    C22 = P1 + P2 - P3 + P6\n",
        "\n",
        "    # Соединяем в одну матрицу\n",
        "    top = np.hstack((C11, C12))\n",
        "    bottom = np.hstack((C21, C22))\n",
        "    return np.vstack((top, bottom))\n",
        "\n",
        "def tiled_strassen(A, B, block_size=128, cutoff=64):\n",
        "    n = A.shape[0]\n",
        "    result = np.zeros_like(A)\n",
        "\n",
        "    for i in range(0, n, block_size):\n",
        "        for j in range(0, n, block_size):\n",
        "            for k in range(0, n, block_size):\n",
        "                a_block = A[i:min(i+block_size, n), k:min(k+block_size, n)]\n",
        "                b_block = B[k:min(k+block_size, n), j:min(j+block_size, n)]\n",
        "                prod = strassen(a_block, b_block, cutoff=cutoff)\n",
        "                result[i:i+prod.shape[0], j:j+prod.shape[1]] += prod\n",
        "\n",
        "    return result"
      ],
      "metadata": {
        "id": "qUHX-45YkA36"
      },
      "id": "qUHX-45YkA36",
      "execution_count": 49,
      "outputs": []
    },
    {
      "cell_type": "code",
      "source": [
        "import time\n",
        "\n",
        "# Параметры теста\n",
        "n = 512\n",
        "block_size = 128\n",
        "cutoff = 32\n",
        "\n",
        "# Генерация случайных матриц\n",
        "A = np.random.rand(n, n)\n",
        "B = np.random.rand(n, n)\n",
        "\n",
        "# Умножение через NumPy\n",
        "start = time.time()\n",
        "C_numpy = A @ B\n",
        "end = time.time()\n",
        "print(f\"Time using NumPy: {end - start:.4f} seconds\")\n",
        "\n",
        "# Умножение через Strassen\n",
        "start = time.time()\n",
        "C_strassen = strassen(A, B, cutoff=cutoff)\n",
        "end = time.time()\n",
        "print(f\"Time using Strassen: {end - start:.4f} seconds\")\n",
        "\n",
        "# Умножение через Tiled Strassen\n",
        "start = time.time()\n",
        "C_tiled_strassen = tiled_strassen(A, B, block_size=block_size, cutoff=cutoff)\n",
        "end = time.time()\n",
        "print(f\"Time using Tiled Strassen: {end - start:.4f} seconds\")\n",
        "send_results(computation_time, \"Strassen’s Algorithm\")"
      ],
      "metadata": {
        "colab": {
          "base_uri": "https://localhost:8080/"
        },
        "id": "aDe_UfpvngAr",
        "outputId": "f77f4364-422e-4e69-c6b1-46a6044f8e3b"
      },
      "id": "aDe_UfpvngAr",
      "execution_count": 50,
      "outputs": [
        {
          "output_type": "stream",
          "name": "stdout",
          "text": [
            "Time using NumPy: 0.0220 seconds\n",
            "Time using Strassen: 0.8165 seconds\n",
            "Time using Tiled Strassen: 0.0998 seconds\n"
          ]
        }
      ]
    },
    {
      "cell_type": "markdown",
      "id": "uNhNuVIS4N-e",
      "metadata": {
        "id": "uNhNuVIS4N-e"
      },
      "source": [
        "Это реализация блочного умножения матриц с использованием NumPY.\n",
        "\n",
        "Алгоритмы со несколькими циклами работает медленно, потому что использует кэш процессора и чтобы исправить это я применила tiled умножения матриц который выполняет следующее:\n",
        "\n",
        "- Матрицы разбиваются на небольшие блоки\n",
        "- Каждый блок помещается в кэш\n",
        "- вычисления происходят над этими блоками, чтобы минимизировать обращение к оперативной памяти."
      ]
    },
    {
      "cell_type": "markdown",
      "id": "cga-Nh483yK7",
      "metadata": {
        "id": "cga-Nh483yK7"
      },
      "source": [
        "### 3. 🧱 **SIMD-Optimized Matrix Multiply**\n",
        "\n",
        "#### 📌 What:\n",
        "\n",
        "* Leverage **SIMD intrinsics** (SSE, AVX, Neon) to multiply rows/columns in parallel.\n",
        "\n",
        "#### 💡 Optimization Focus:\n",
        "\n",
        "* Vectorization\n",
        "* Loop unrolling\n",
        "* Instruction scheduling\n",
        "\n",
        "#### 🧪 Try This:"
      ]
    },
    {
      "cell_type": "markdown",
      "source": [
        "Этот код ускоряет умножение матриц с помощью Numba, использая парраллелизм и оптимизацию на уровне процессора, чтобы работать также быстро, как и NumPY."
      ],
      "metadata": {
        "id": "OJrqagnImI2z"
      },
      "id": "OJrqagnImI2z"
    },
    {
      "cell_type": "code",
      "execution_count": 51,
      "id": "I54onLWs3zBc",
      "metadata": {
        "id": "I54onLWs3zBc",
        "colab": {
          "base_uri": "https://localhost:8080/"
        },
        "outputId": "de31674d-1312-4a16-d754-9526d022281e"
      },
      "outputs": [
        {
          "output_type": "stream",
          "name": "stdout",
          "text": [
            "Time using NumPy: 0.0335 seconds\n",
            "Time using Numba (SIMD+Parallel): 1.2075 seconds\n"
          ]
        }
      ],
      "source": [
        "from numba import jit, prange\n",
        "import numpy as np\n",
        "import time\n",
        "\n",
        "@jit(nopython=True, fastmath=True, parallel=True)\n",
        "def simd_matrix_mult(A, B):\n",
        "    n, p = A.shape\n",
        "    p_, m = B.shape\n",
        "    assert p == p_\n",
        "    result = np.zeros((n, m))\n",
        "\n",
        "    for i in prange(n):\n",
        "        for k in range(p):\n",
        "            a_ik = A[i, k]\n",
        "            for j in range(m):\n",
        "                result[i, j] += a_ik * B[k, j]\n",
        "    return result\n",
        "\n",
        "n = 1000\n",
        "A = np.random.rand(n, n).astype(np.float32)\n",
        "B = np.random.rand(n, n).astype(np.float32)\n",
        "\n",
        "# NumPy как эталон\n",
        "start = time.time()\n",
        "C_numpy = A @ B\n",
        "end = time.time()\n",
        "print(f\"Time using NumPy: {end - start:.4f} seconds\")\n",
        "\n",
        "# SIMD-версия\n",
        "start = time.time()\n",
        "C_simd = simd_matrix_mult(A, B)\n",
        "end = time.time()\n",
        "print(f\"Time using Numba (SIMD+Parallel): {end - start:.4f} seconds\")\n",
        "send_results(computation_time, \"SIMD+ParallelT\")"
      ]
    },
    {
      "cell_type": "markdown",
      "id": "nwxpBGRP3uG1",
      "metadata": {
        "id": "nwxpBGRP3uG1"
      },
      "source": [
        "---\n"
      ]
    },
    {
      "cell_type": "markdown",
      "id": "ETyLg8YI3lPE",
      "metadata": {
        "id": "ETyLg8YI3lPE"
      },
      "source": [
        "### 4. ⚡ **Multithreaded Matrix Multiply (OpenMP / TBB / Rayon)**\n",
        "\n",
        "#### 📌 What:\n",
        "\n",
        "* Distribute computation across multiple CPU cores.\n",
        "\n",
        "#### 💡 Optimization Focus:\n",
        "\n",
        "* Data partitioning\n",
        "* Load balancing\n",
        "* Avoiding false sharing / cache line contention\n",
        "\n",
        "#### 🧪 Try This:"
      ]
    },
    {
      "cell_type": "code",
      "execution_count": 52,
      "id": "AusoX0Hr3GZU",
      "metadata": {
        "id": "AusoX0Hr3GZU"
      },
      "outputs": [],
      "source": [
        "import numpy as np\n",
        "from numba import jit, prange\n",
        "\n",
        "@jit(nopython=True, parallel=True)\n",
        "def matrix_multiply(A, B, C, N):\n",
        "    for i in prange(N):\n",
        "        for j in range(N):\n",
        "            for k in range(N):\n",
        "                C[i][j] += A[i][k] * B[k][j]"
      ]
    },
    {
      "cell_type": "markdown",
      "id": "Ge9fwYOZ3mJq",
      "metadata": {
        "id": "Ge9fwYOZ3mJq"
      },
      "source": [
        "---"
      ]
    },
    {
      "cell_type": "markdown",
      "id": "hwtIauiT2gtm",
      "metadata": {
        "id": "hwtIauiT2gtm"
      },
      "source": [
        "### 5. 🧠 **BLAS-Like API Wrappers / Custom Kernels**\n",
        "\n",
        "#### 📌 What:\n",
        "\n",
        "* Write or tune custom matrix kernels (e.g., SGEMM, DGEMM) as drop-in BLAS replacements.\n",
        "\n",
        "#### 💡 Optimization Focus:\n",
        "\n",
        "* Micro-kernel tuning\n",
        "* Assembly-level optimization\n",
        "* Prefetching\n",
        "\n",
        "#### 🧪 Try This:\n",
        "\n",
        "* Look into **OpenBLAS**, **BLIS**, or **Intel MKL** source\n",
        "* Try replacing small kernels with your own variants\n",
        "---"
      ]
    },
    {
      "cell_type": "markdown",
      "id": "M9ZpuSHF2J99",
      "metadata": {
        "id": "M9ZpuSHF2J99"
      },
      "source": [
        "### 6. 🧪 **GPU Matrix Multiply (CUDA / ROCm)**\n",
        "\n",
        "#### 📌 What:\n",
        "\n",
        "* Use GPU threads to parallelize matrix operations massively.\n",
        "\n",
        "#### 💡 Optimization Focus:\n",
        "\n",
        "* Thread/block scheduling\n",
        "* Shared memory reuse\n",
        "* Warp-level primitives (WMMA for tensor cores)\n",
        "\n",
        "#### 🧪 Try This:"
      ]
    },
    {
      "cell_type": "code",
      "execution_count": null,
      "id": "1ugWtch92MNF",
      "metadata": {
        "id": "1ugWtch92MNF"
      },
      "outputs": [],
      "source": [
        "# Try writing a CUDA (or CuPy) kernel from scratch\n",
        "# Then optimize with shared memory and tiling"
      ]
    },
    {
      "cell_type": "markdown",
      "id": "5vA1EZ_z2YED",
      "metadata": {
        "id": "5vA1EZ_z2YED"
      },
      "source": [
        "---"
      ]
    },
    {
      "cell_type": "markdown",
      "id": "V80BYnHZ12RV",
      "metadata": {
        "id": "V80BYnHZ12RV"
      },
      "source": [
        "### 7. 🔄 **Low-Precision / Quantized MatMul**\n",
        "\n",
        "#### 📌 What:\n",
        "\n",
        "* Reduce precision to FP16, INT8, or even binary for speedup.\n",
        "\n",
        "#### 💡 Optimization Focus:\n",
        "\n",
        "* Saturating arithmetic\n",
        "* Vectorized packing/unpacking\n",
        "* Quantization-aware fusion (scaling factors, zero-points)\n",
        "\n",
        "#### 🧪 Try This:\n",
        "\n",
        "* Use **TensorRT**, **ONNX Runtime**, or **custom C++/Python code**"
      ]
    },
    {
      "cell_type": "markdown",
      "id": "9EloEsnh19x1",
      "metadata": {
        "id": "9EloEsnh19x1"
      },
      "source": [
        "---"
      ]
    },
    {
      "cell_type": "markdown",
      "id": "TCxkgEij1rer",
      "metadata": {
        "id": "TCxkgEij1rer"
      },
      "source": [
        "### 8. 🧩 **Sparse Matrix Multiplication (SpMM)**\n",
        "\n",
        "#### 📌 What:\n",
        "\n",
        "* Efficiently multiply when one or both matrices are sparse.\n",
        "\n",
        "#### 💡 Optimization Focus:\n",
        "\n",
        "* Sparse data structures (CSR, CSC)\n",
        "* Loop skipping and pointer arithmetic\n",
        "* Tiling with sparsity-awareness\n",
        "\n",
        "#### 🧪 Try This:"
      ]
    },
    {
      "cell_type": "code",
      "execution_count": null,
      "id": "Np-e1Nwb1iPG",
      "metadata": {
        "id": "Np-e1Nwb1iPG"
      },
      "outputs": [],
      "source": [
        "from scipy.sparse import csr_matrix\n",
        "A = csr_matrix(...)\n",
        "C = A @ B  # Sparse x Dense or Sparse x Sparse"
      ]
    },
    {
      "cell_type": "markdown",
      "id": "vfYVYK571ei-",
      "metadata": {
        "id": "vfYVYK571ei-"
      },
      "source": [
        "## 🛠️ Toolchains & Languages for Optimization\n",
        "\n",
        "| Tool / Language        | Best Use Case                  |\n",
        "| ---------------------- | ------------------------------ |\n",
        "| **NumPy + Numba**      | High-level, rapid prototyping  |\n",
        "| **C/C++ + OpenMP**     | Low-level CPU optimization     |\n",
        "| **CUDA / OpenCL**      | GPU acceleration               |\n",
        "| **Rust + Rayon**       | Safe parallel matrix code      |\n",
        "| **Assembly (x86/ARM)** | For hardcore SIMD tuning       |\n",
        "| **Python + Cython**    | Balance between ease and speed |\n",
        "\n",
        "---\n",
        "\n",
        "## 🎓 Summary Table\n",
        "\n",
        "| Method                  | Speed  | Difficulty | Teachable?  | Optimizable? |\n",
        "| ----------------------- | ------ | ---------- | ----------- | ------------ |\n",
        "| Blocked MatMul          | ✅ High | 🟢 Easy    | ✅ Yes       | ✅ Yes        |\n",
        "| Strassen                | ✅ Med  | 🟡 Medium  | ✅ Yes       | ✅ Yes        |\n",
        "| SIMD MatMul             | ✅ High | 🔴 Hard    | ✅ Yes       | ✅ Yes        |\n",
        "| Multithreaded           | ✅ High | 🟡 Medium  | ✅ Yes       | ✅ Yes        |\n",
        "| GPU                     | ✅✅     | 🔴 Hard    | ✅ Yes       | ✅ Yes        |\n",
        "| Quantized/Low-Precision | ✅ High | 🟡 Medium  | 🟢 Somewhat | ✅ Yes        |\n",
        "| Sparse MatMul           | ✅ Med  | 🟡 Medium  | ✅ Yes       | ✅ Yes        |"
      ]
    },
    {
      "cell_type": "markdown",
      "id": "ef11f470",
      "metadata": {
        "id": "ef11f470"
      },
      "source": [
        "---"
      ]
    },
    {
      "cell_type": "markdown",
      "id": "rYkqCaN_X4TC",
      "metadata": {
        "id": "rYkqCaN_X4TC"
      },
      "source": [
        "# Заключение\n",
        "\n",
        "Расскажите, какой опыт Вы сегодня получили для себя? Как Вы оцениваете свой прогресс? Как можно было бы улучшить сегодняшнее занятие по Вашему мнению?\n",
        "\n",
        "*ВАШ КОММЕНТАРИЙ ЗДЕСЬ*"
      ]
    }
  ],
  "metadata": {
    "colab": {
      "provenance": []
    },
    "kernelspec": {
      "display_name": "Python 3",
      "name": "python3"
    },
    "language_info": {
      "name": "python"
    }
  },
  "nbformat": 4,
  "nbformat_minor": 5
}