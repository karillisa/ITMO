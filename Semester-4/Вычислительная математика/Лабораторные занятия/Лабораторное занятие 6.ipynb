{
  "metadata": {
    "kernelspec": {
      "display_name": "Python 3",
      "name": "python3"
    },
    "language_info": {
      "name": "python",
      "version": "3.10.12",
      "mimetype": "text/x-python",
      "codemirror_mode": {
        "name": "ipython",
        "version": 3
      },
      "pygments_lexer": "ipython3",
      "nbconvert_exporter": "python",
      "file_extension": ".py"
    },
    "kaggle": {
      "accelerator": "none",
      "dataSources": [],
      "dockerImageVersionId": 30918,
      "isInternetEnabled": true,
      "language": "python",
      "sourceType": "notebook",
      "isGpuEnabled": false
    },
    "colab": {
      "provenance": [],
      "gpuType": "T4"
    },
    "accelerator": "GPU"
  },
  "nbformat_minor": 0,
  "nbformat": 4,
  "cells": [
    {
      "cell_type": "markdown",
      "source": [
        "# **Использование различных оптимизаторов для минимизации весов нейронных сетей на основе набора данных MNIST**\n",
        "\n",
        "MNIST - является классических набором данных для задачи распознавания рукописных цифр."
      ],
      "metadata": {
        "id": "QiCQMrISPl6r"
      }
    },
    {
      "cell_type": "markdown",
      "source": [
        "Ваш ИСУ id и ФИО:\n",
        "\n",
        "*ВАШ ИСУ ID И ФИО ЗДЕСЬ*\n",
        "\n",
        "Гафурова Фарангиз Фуркатовна\n",
        "\n",
        "373432"
      ],
      "metadata": {
        "id": "JC-a4w5cyHT1"
      }
    },
    {
      "cell_type": "markdown",
      "source": [
        "**Задание:**\n",
        "1. Обучить и измерить точность нейросетей с различными предложенными оптимизаторами из библиотеки PyTorch\n",
        "2. Построить графики длительности обучения, точности результатов, загрузки CPU и использования оперативной памяти.\n",
        "3. Сделать анализ полученных результатов. (разде 9)\n",
        "4. Добавить собственные оптимизаторы из коллекции библиотеки Pytorch.\n",
        "5. Повторить шаги 2-3.\n",
        "6. *Можно попробовать оптимизаторы из других библиотек, но не все они могут быть совместимы с Pytorch архитектурой (см. раздел 10).\n",
        "\n",
        "Так как нейронные сети могут обучаться достаточно долго, то запускать их можно по одной, чтобы не потерять результаты.\n",
        "\n",
        "По указаной же выше причине, можно сначала поставить нейронные сети тренироваться, а в это время заняться изучением теоретической шпаргалки в разделе 1.\n",
        "\n",
        "В разделе 9, секцию А можно заполнять, пока нейронные сети ещё учатся."
      ],
      "metadata": {
        "id": "cPtnVpCkJdqR"
      }
    },
    {
      "cell_type": "code",
      "source": [
        "!pip install --upgrade torch torchvision"
      ],
      "metadata": {
        "id": "nu0ZyhN_XLTT",
        "outputId": "023226fe-e1a2-4028-ad0b-37af099eb983",
        "colab": {
          "base_uri": "https://localhost:8080/"
        },
        "collapsed": true
      },
      "execution_count": 1,
      "outputs": [
        {
          "output_type": "stream",
          "name": "stdout",
          "text": [
            "Requirement already satisfied: torch in /usr/local/lib/python3.11/dist-packages (2.6.0+cu124)\n",
            "Requirement already satisfied: torchvision in /usr/local/lib/python3.11/dist-packages (0.21.0+cu124)\n",
            "Requirement already satisfied: filelock in /usr/local/lib/python3.11/dist-packages (from torch) (3.17.0)\n",
            "Requirement already satisfied: typing-extensions>=4.10.0 in /usr/local/lib/python3.11/dist-packages (from torch) (4.12.2)\n",
            "Requirement already satisfied: networkx in /usr/local/lib/python3.11/dist-packages (from torch) (3.4.2)\n",
            "Requirement already satisfied: jinja2 in /usr/local/lib/python3.11/dist-packages (from torch) (3.1.6)\n",
            "Requirement already satisfied: fsspec in /usr/local/lib/python3.11/dist-packages (from torch) (2024.10.0)\n",
            "Collecting nvidia-cuda-nvrtc-cu12==12.4.127 (from torch)\n",
            "  Downloading nvidia_cuda_nvrtc_cu12-12.4.127-py3-none-manylinux2014_x86_64.whl.metadata (1.5 kB)\n",
            "Collecting nvidia-cuda-runtime-cu12==12.4.127 (from torch)\n",
            "  Downloading nvidia_cuda_runtime_cu12-12.4.127-py3-none-manylinux2014_x86_64.whl.metadata (1.5 kB)\n",
            "Collecting nvidia-cuda-cupti-cu12==12.4.127 (from torch)\n",
            "  Downloading nvidia_cuda_cupti_cu12-12.4.127-py3-none-manylinux2014_x86_64.whl.metadata (1.6 kB)\n",
            "Collecting nvidia-cudnn-cu12==9.1.0.70 (from torch)\n",
            "  Downloading nvidia_cudnn_cu12-9.1.0.70-py3-none-manylinux2014_x86_64.whl.metadata (1.6 kB)\n",
            "Collecting nvidia-cublas-cu12==12.4.5.8 (from torch)\n",
            "  Downloading nvidia_cublas_cu12-12.4.5.8-py3-none-manylinux2014_x86_64.whl.metadata (1.5 kB)\n",
            "Collecting nvidia-cufft-cu12==11.2.1.3 (from torch)\n",
            "  Downloading nvidia_cufft_cu12-11.2.1.3-py3-none-manylinux2014_x86_64.whl.metadata (1.5 kB)\n",
            "Collecting nvidia-curand-cu12==10.3.5.147 (from torch)\n",
            "  Downloading nvidia_curand_cu12-10.3.5.147-py3-none-manylinux2014_x86_64.whl.metadata (1.5 kB)\n",
            "Collecting nvidia-cusolver-cu12==11.6.1.9 (from torch)\n",
            "  Downloading nvidia_cusolver_cu12-11.6.1.9-py3-none-manylinux2014_x86_64.whl.metadata (1.6 kB)\n",
            "Collecting nvidia-cusparse-cu12==12.3.1.170 (from torch)\n",
            "  Downloading nvidia_cusparse_cu12-12.3.1.170-py3-none-manylinux2014_x86_64.whl.metadata (1.6 kB)\n",
            "Requirement already satisfied: nvidia-cusparselt-cu12==0.6.2 in /usr/local/lib/python3.11/dist-packages (from torch) (0.6.2)\n",
            "Requirement already satisfied: nvidia-nccl-cu12==2.21.5 in /usr/local/lib/python3.11/dist-packages (from torch) (2.21.5)\n",
            "Requirement already satisfied: nvidia-nvtx-cu12==12.4.127 in /usr/local/lib/python3.11/dist-packages (from torch) (12.4.127)\n",
            "Collecting nvidia-nvjitlink-cu12==12.4.127 (from torch)\n",
            "  Downloading nvidia_nvjitlink_cu12-12.4.127-py3-none-manylinux2014_x86_64.whl.metadata (1.5 kB)\n",
            "Requirement already satisfied: triton==3.2.0 in /usr/local/lib/python3.11/dist-packages (from torch) (3.2.0)\n",
            "Requirement already satisfied: sympy==1.13.1 in /usr/local/lib/python3.11/dist-packages (from torch) (1.13.1)\n",
            "Requirement already satisfied: mpmath<1.4,>=1.1.0 in /usr/local/lib/python3.11/dist-packages (from sympy==1.13.1->torch) (1.3.0)\n",
            "Requirement already satisfied: numpy in /usr/local/lib/python3.11/dist-packages (from torchvision) (2.0.2)\n",
            "Requirement already satisfied: pillow!=8.3.*,>=5.3.0 in /usr/local/lib/python3.11/dist-packages (from torchvision) (11.1.0)\n",
            "Requirement already satisfied: MarkupSafe>=2.0 in /usr/local/lib/python3.11/dist-packages (from jinja2->torch) (3.0.2)\n",
            "Downloading nvidia_cublas_cu12-12.4.5.8-py3-none-manylinux2014_x86_64.whl (363.4 MB)\n",
            "\u001b[2K   \u001b[90m━━━━━━━━━━━━━━━━━━━━━━━━━━━━━━━━━━━━━━━━\u001b[0m \u001b[32m363.4/363.4 MB\u001b[0m \u001b[31m3.7 MB/s\u001b[0m eta \u001b[36m0:00:00\u001b[0m\n",
            "\u001b[?25hDownloading nvidia_cuda_cupti_cu12-12.4.127-py3-none-manylinux2014_x86_64.whl (13.8 MB)\n",
            "\u001b[2K   \u001b[90m━━━━━━━━━━━━━━━━━━━━━━━━━━━━━━━━━━━━━━━━\u001b[0m \u001b[32m13.8/13.8 MB\u001b[0m \u001b[31m67.5 MB/s\u001b[0m eta \u001b[36m0:00:00\u001b[0m\n",
            "\u001b[?25hDownloading nvidia_cuda_nvrtc_cu12-12.4.127-py3-none-manylinux2014_x86_64.whl (24.6 MB)\n",
            "\u001b[2K   \u001b[90m━━━━━━━━━━━━━━━━━━━━━━━━━━━━━━━━━━━━━━━━\u001b[0m \u001b[32m24.6/24.6 MB\u001b[0m \u001b[31m50.3 MB/s\u001b[0m eta \u001b[36m0:00:00\u001b[0m\n",
            "\u001b[?25hDownloading nvidia_cuda_runtime_cu12-12.4.127-py3-none-manylinux2014_x86_64.whl (883 kB)\n",
            "\u001b[2K   \u001b[90m━━━━━━━━━━━━━━━━━━━━━━━━━━━━━━━━━━━━━━━━\u001b[0m \u001b[32m883.7/883.7 kB\u001b[0m \u001b[31m41.4 MB/s\u001b[0m eta \u001b[36m0:00:00\u001b[0m\n",
            "\u001b[?25hDownloading nvidia_cudnn_cu12-9.1.0.70-py3-none-manylinux2014_x86_64.whl (664.8 MB)\n",
            "\u001b[2K   \u001b[90m━━━━━━━━━━━━━━━━━━━━━━━━━━━━━━━━━━━━━━━━\u001b[0m \u001b[32m664.8/664.8 MB\u001b[0m \u001b[31m2.9 MB/s\u001b[0m eta \u001b[36m0:00:00\u001b[0m\n",
            "\u001b[?25hDownloading nvidia_cufft_cu12-11.2.1.3-py3-none-manylinux2014_x86_64.whl (211.5 MB)\n",
            "\u001b[2K   \u001b[90m━━━━━━━━━━━━━━━━━━━━━━━━━━━━━━━━━━━━━━━━\u001b[0m \u001b[32m211.5/211.5 MB\u001b[0m \u001b[31m5.6 MB/s\u001b[0m eta \u001b[36m0:00:00\u001b[0m\n",
            "\u001b[?25hDownloading nvidia_curand_cu12-10.3.5.147-py3-none-manylinux2014_x86_64.whl (56.3 MB)\n",
            "\u001b[2K   \u001b[90m━━━━━━━━━━━━━━━━━━━━━━━━━━━━━━━━━━━━━━━━\u001b[0m \u001b[32m56.3/56.3 MB\u001b[0m \u001b[31m18.3 MB/s\u001b[0m eta \u001b[36m0:00:00\u001b[0m\n",
            "\u001b[?25hDownloading nvidia_cusolver_cu12-11.6.1.9-py3-none-manylinux2014_x86_64.whl (127.9 MB)\n",
            "\u001b[2K   \u001b[90m━━━━━━━━━━━━━━━━━━━━━━━━━━━━━━━━━━━━━━━━\u001b[0m \u001b[32m127.9/127.9 MB\u001b[0m \u001b[31m7.5 MB/s\u001b[0m eta \u001b[36m0:00:00\u001b[0m\n",
            "\u001b[?25hDownloading nvidia_cusparse_cu12-12.3.1.170-py3-none-manylinux2014_x86_64.whl (207.5 MB)\n",
            "\u001b[2K   \u001b[90m━━━━━━━━━━━━━━━━━━━━━━━━━━━━━━━━━━━━━━━━\u001b[0m \u001b[32m207.5/207.5 MB\u001b[0m \u001b[31m5.2 MB/s\u001b[0m eta \u001b[36m0:00:00\u001b[0m\n",
            "\u001b[?25hDownloading nvidia_nvjitlink_cu12-12.4.127-py3-none-manylinux2014_x86_64.whl (21.1 MB)\n",
            "\u001b[2K   \u001b[90m━━━━━━━━━━━━━━━━━━━━━━━━━━━━━━━━━━━━━━━━\u001b[0m \u001b[32m21.1/21.1 MB\u001b[0m \u001b[31m52.3 MB/s\u001b[0m eta \u001b[36m0:00:00\u001b[0m\n",
            "\u001b[?25hInstalling collected packages: nvidia-nvjitlink-cu12, nvidia-curand-cu12, nvidia-cufft-cu12, nvidia-cuda-runtime-cu12, nvidia-cuda-nvrtc-cu12, nvidia-cuda-cupti-cu12, nvidia-cublas-cu12, nvidia-cusparse-cu12, nvidia-cudnn-cu12, nvidia-cusolver-cu12\n",
            "  Attempting uninstall: nvidia-nvjitlink-cu12\n",
            "    Found existing installation: nvidia-nvjitlink-cu12 12.5.82\n",
            "    Uninstalling nvidia-nvjitlink-cu12-12.5.82:\n",
            "      Successfully uninstalled nvidia-nvjitlink-cu12-12.5.82\n",
            "  Attempting uninstall: nvidia-curand-cu12\n",
            "    Found existing installation: nvidia-curand-cu12 10.3.6.82\n",
            "    Uninstalling nvidia-curand-cu12-10.3.6.82:\n",
            "      Successfully uninstalled nvidia-curand-cu12-10.3.6.82\n",
            "  Attempting uninstall: nvidia-cufft-cu12\n",
            "    Found existing installation: nvidia-cufft-cu12 11.2.3.61\n",
            "    Uninstalling nvidia-cufft-cu12-11.2.3.61:\n",
            "      Successfully uninstalled nvidia-cufft-cu12-11.2.3.61\n",
            "  Attempting uninstall: nvidia-cuda-runtime-cu12\n",
            "    Found existing installation: nvidia-cuda-runtime-cu12 12.5.82\n",
            "    Uninstalling nvidia-cuda-runtime-cu12-12.5.82:\n",
            "      Successfully uninstalled nvidia-cuda-runtime-cu12-12.5.82\n",
            "  Attempting uninstall: nvidia-cuda-nvrtc-cu12\n",
            "    Found existing installation: nvidia-cuda-nvrtc-cu12 12.5.82\n",
            "    Uninstalling nvidia-cuda-nvrtc-cu12-12.5.82:\n",
            "      Successfully uninstalled nvidia-cuda-nvrtc-cu12-12.5.82\n",
            "  Attempting uninstall: nvidia-cuda-cupti-cu12\n",
            "    Found existing installation: nvidia-cuda-cupti-cu12 12.5.82\n",
            "    Uninstalling nvidia-cuda-cupti-cu12-12.5.82:\n",
            "      Successfully uninstalled nvidia-cuda-cupti-cu12-12.5.82\n",
            "  Attempting uninstall: nvidia-cublas-cu12\n",
            "    Found existing installation: nvidia-cublas-cu12 12.5.3.2\n",
            "    Uninstalling nvidia-cublas-cu12-12.5.3.2:\n",
            "      Successfully uninstalled nvidia-cublas-cu12-12.5.3.2\n",
            "  Attempting uninstall: nvidia-cusparse-cu12\n",
            "    Found existing installation: nvidia-cusparse-cu12 12.5.1.3\n",
            "    Uninstalling nvidia-cusparse-cu12-12.5.1.3:\n",
            "      Successfully uninstalled nvidia-cusparse-cu12-12.5.1.3\n",
            "  Attempting uninstall: nvidia-cudnn-cu12\n",
            "    Found existing installation: nvidia-cudnn-cu12 9.3.0.75\n",
            "    Uninstalling nvidia-cudnn-cu12-9.3.0.75:\n",
            "      Successfully uninstalled nvidia-cudnn-cu12-9.3.0.75\n",
            "  Attempting uninstall: nvidia-cusolver-cu12\n",
            "    Found existing installation: nvidia-cusolver-cu12 11.6.3.83\n",
            "    Uninstalling nvidia-cusolver-cu12-11.6.3.83:\n",
            "      Successfully uninstalled nvidia-cusolver-cu12-11.6.3.83\n",
            "Successfully installed nvidia-cublas-cu12-12.4.5.8 nvidia-cuda-cupti-cu12-12.4.127 nvidia-cuda-nvrtc-cu12-12.4.127 nvidia-cuda-runtime-cu12-12.4.127 nvidia-cudnn-cu12-9.1.0.70 nvidia-cufft-cu12-11.2.1.3 nvidia-curand-cu12-10.3.5.147 nvidia-cusolver-cu12-11.6.1.9 nvidia-cusparse-cu12-12.3.1.170 nvidia-nvjitlink-cu12-12.4.127\n"
          ]
        }
      ]
    },
    {
      "cell_type": "markdown",
      "source": [
        "### **Советы для студентов**\n",
        "1. Для методов второго порядка (например, Ньютона) уменьшайте размерность данных (например, используйте `28x28 → 14x14`), чтобы гессиан не занимал слишком много памяти.\n",
        "2. Экспериментируйте с `batch_size` для баланса между памятью и скоростью.\n",
        "3. Используйте `torch.jit` для оптимизации вычислений."
      ],
      "metadata": {
        "id": "MEGHD3_uWbZi"
      }
    },
    {
      "cell_type": "markdown",
      "source": [
        "#### **1. Теоретическая шпаргалка**\n",
        "### **1. Основы методов оптимизации**\n",
        "#### **1.1 Градиентный спуск и его модификации**\n",
        "- **Формула обновления параметров**:  \n",
        "  $ \\theta_{t+1} = \\theta_t - \\eta \\nabla L(\\theta_t) $,  \n",
        "  где $ \\eta $ — learning rate, $ \\nabla L $ — градиент функции потерь.\n",
        "- **Стохастический градиентный спуск (SGD)**:  \n",
        "  Использование подвыборки (батча) для оценки градиента.  \n",
        "  Плюсы: низкая вычислительная стоимость.  \n",
        "  Минусы: шум, медленная сходимость.\n",
        "- **Метод моментов**:  \n",
        "  $ v_{t+1} = \\beta v_t + (1-\\beta) \\nabla L(\\theta_t) $,  \n",
        "  $ \\theta_{t+1} = \\theta_t - \\eta v_{t+1} $.  \n",
        "  Идея: инерция для подавления шума.\n",
        "\n",
        "#### **1.2 Методы второго порядка**\n",
        "- **Метод Ньютона**:  \n",
        "  $ \\theta_{t+1} = \\theta_t - H^{-1}(\\theta_t) \\nabla L(\\theta_t) $,  \n",
        "  где $ H $ — гессиан.  \n",
        "  Проблемы: вычисление $ H^{-1} $ для больших моделей ($ O(n^3) $).\n",
        "- **Квазиньютоновские методы (L-BFGS)**:  \n",
        "  Аппроксимация гессиана с помощью истории градиентов.  \n",
        "  Преимущества: меньше памяти, чем у полного BFGS.\n",
        "\n",
        "#### **1.3 Адаптивные методы**\n",
        "- **RMSProp**:  \n",
        "  Адаптивный шаг на основе скользящего среднего квадратов градиентов:  \n",
        "  $ E[g^2]_t = \\gamma E[g^2]_{t-1} + (1-\\gamma) g_t^2 $,  \n",
        "  $ \\theta_{t+1} = \\theta_t - \\frac{\\eta}{\\sqrt{E[g^2]_t + \\epsilon}} g_t $.  \n",
        "- **Adam**:  \n",
        "  Комбинация моментов первого и второго порядка:  \n",
        "  $ m_t = \\beta_1 m_{t-1} + (1-\\beta_1) g_t $,  \n",
        "  $ v_t = \\beta_2 v_{t-1} + (1-\\beta_2) g_t^2 $,  \n",
        "  $ \\theta_{t+1} = \\theta_t - \\frac{\\eta \\cdot \\hat{m}_t}{\\sqrt{\\hat{v}_t} + \\epsilon} $.  \n",
        "  Здесь $ \\hat{m}_t $ и $ \\hat{v}_t $ — bias-corrected оценки.\n",
        "\n",
        "---\n",
        "\n",
        "### **2. Связь с системами нелинейных уравнений**\n",
        "#### **2.1 Постановка задачи**\n",
        "- Система уравнений: $ F(\\theta) = 0 $, где $ F: \\mathbb{R}^n \\to \\mathbb{R}^n $.  \n",
        "- Для оптимизации: $ F(\\theta) = \\nabla L(\\theta) = 0 $.\n",
        "\n",
        "#### **2.2 Метод Ньютона для систем**\n",
        "- Итерация: $ \\theta_{t+1} = \\theta_t - J^{-1}(\\theta_t) F(\\theta_t) $,  \n",
        "  где $ J $ — якобиан $ F $.  \n",
        "- Для оптимизации $ J = H $ (гессиан функции потерь).\n",
        "\n",
        "#### **2.3 Квазиньютоновские методы**\n",
        "- Аппроксимация $ J^{-1} $ без явного вычисления матрицы (L-BFGS).  \n",
        "- Условие секущих: $ J_{t+1} (\\theta_{t+1} - \\theta_t) = F(\\theta_{t+1}) - F(\\theta_t) $.\n",
        "\n",
        "---\n",
        "\n",
        "### **3. Практические аспекты в глубоком обучении**\n",
        "#### **3.1 Почему метод Ньютона не используется напрямую?**\n",
        "- Вычислительная сложность: $ O(n^3) $ для обращения матрицы.  \n",
        "- Память: хранение гессиана для $ n=10^6 $ параметров требует $ 10^{12} $ элементов.  \n",
        "- Решение: квазиньютоновские методы и адаптивные оптимизаторы.\n",
        "\n",
        "#### **3.2 Сравнение методов**\n",
        "| **Метод**      | **Порядок** | **Память** | **Сходимость**       | **Гиперпараметры**   |\n",
        "|----------------|-------------|------------|----------------------|----------------------|\n",
        "| SGD            | 1-й         | $ O(n) $ | Медленная            | Learning rate        |\n",
        "| Adam           | 1-й         | $ O(n) $ | Быстрая             | $ \\beta_1, \\beta_2 $ |\n",
        "| L-BFGS         | 2-й         | $ O(mn) $ | Суперлинейная       | Размер истории ($ m $) |\n",
        "\n",
        "#### **3.3 Адаптивные методы vs. методы второго порядка**\n",
        "- **Adam/RMSProp**: Хороши для noisy gradients, не требуют точного вычисления кривизны.  \n",
        "- **L-BFGS**: Эффективен на гладких задачах, но чувствителен к шуму и требует точного линейного поиска.\n",
        "\n",
        "---\n",
        "\n",
        "### **4. Ключевые концепции для анализа**\n",
        "#### **4.1 Скорость сходимости**\n",
        "- Линейная (SGD), суперлинейная (L-BFGS), адаптивная (Adam).  \n",
        "- Теоретическая основа: условия Липшица для градиента и гессиана.\n",
        "\n",
        "#### **4.2 Память и вычислительная стоимость**\n",
        "- **Методы 1-го порядка**: $ O(n) $ — хранение градиентов.  \n",
        "- **Методы 2-го порядка**: $ O(mn) $ — хранение истории градиентов (L-BFGS).  \n",
        "- **Время на итерацию**: SGD — $ O(batch \\cdot n) $, L-BFGS — $ O(m \\cdot batch \\cdot n) $.\n",
        "\n",
        "#### **4.3 Проблемы обучения**\n",
        "- **Застревание в локальных минимумах**: Как методы с моментом (Adam) помогают их избежать.  \n",
        "- **Сглаживание шума**: Роль экспоненциального скользящего среднего в Adam.\n",
        "\n",
        "---\n",
        "\n",
        "### **5. Визуализации для понимания**\n",
        "1. **График ландшафта функции потерь**:  \n",
        "   - Как методы 1-го и 2-го порядка двигаются к минимуму.\n",
        "\n",
        "2. **Графики сходимости**:  \n",
        "   - Сравнение loss vs. итерации для SGD, Adam, L-BFGS.  \n",
        "   - Пример из [статьи](https://debuggercafe.com/wp-content/uploads/2020/06/adam_result_mnist.png):  \n",
        "     ![Optimizers Comparison](https://debuggercafe.com/wp-content/uploads/2020/06/adam_result_mnist.png) .\n",
        "\n",
        "---\n",
        "\n",
        "### **6. Рекомендуемые дополнительные источники**\n",
        "1. **Книги**:  \n",
        "   - Boyd & Vandenberghe, \"Convex Optimization\" (Глава 9 — Методы Ньютона).  \n",
        "   - Goodfellow et al., \"Deep Learning\" (Глава 8 — Оптимизация).  \n",
        "2. **Статьи**:  \n",
        "   - [Adam: A Method for Stochastic Optimization](https://arxiv.org/abs/1412.6980).  \n",
        "   - [On the Limited Memory BFGS Method for Large Scale Optimization](https://link.springer.com/article/10.1007/BF01589116).  \n",
        "3. **Лекции**:  \n",
        "   - [CS231n: Optimization](https://cs231n.github.io/optimization-1/).  "
      ],
      "metadata": {
        "id": "EfHpHRDAWbZj"
      }
    },
    {
      "cell_type": "markdown",
      "source": [
        "# **Конец теоретической шпаргалки**\n",
        "---"
      ],
      "metadata": {
        "id": "j5F6Z-I8XYPY"
      }
    },
    {
      "cell_type": "markdown",
      "source": [
        "---"
      ],
      "metadata": {
        "id": "UeZR2TN7Xbpw"
      }
    },
    {
      "cell_type": "markdown",
      "source": [
        "#### **2. Установка зависимостей**"
      ],
      "metadata": {
        "id": "WFE90OfJWbZk"
      }
    },
    {
      "cell_type": "code",
      "source": [
        "!pip install memory_profiler psutil"
      ],
      "metadata": {
        "trusted": true,
        "execution": {
          "iopub.status.busy": "2025-03-17T17:41:27.761227Z",
          "iopub.execute_input": "2025-03-17T17:41:27.761821Z",
          "iopub.status.idle": "2025-03-17T17:43:59.704721Z",
          "shell.execute_reply.started": "2025-03-17T17:41:27.76178Z",
          "shell.execute_reply": "2025-03-17T17:43:59.703263Z"
        },
        "id": "NnC4Q7TOWbZk",
        "outputId": "8642a08f-499f-4faf-fd59-56588c3a451b",
        "colab": {
          "base_uri": "https://localhost:8080/"
        }
      },
      "outputs": [
        {
          "output_type": "stream",
          "name": "stdout",
          "text": [
            "Collecting memory_profiler\n",
            "  Downloading memory_profiler-0.61.0-py3-none-any.whl.metadata (20 kB)\n",
            "Requirement already satisfied: psutil in /usr/local/lib/python3.11/dist-packages (5.9.5)\n",
            "Downloading memory_profiler-0.61.0-py3-none-any.whl (31 kB)\n",
            "Installing collected packages: memory_profiler\n",
            "Successfully installed memory_profiler-0.61.0\n"
          ]
        }
      ],
      "execution_count": 2
    },
    {
      "cell_type": "markdown",
      "source": [
        "---"
      ],
      "metadata": {
        "id": "9dcG5MqvWbZk"
      }
    },
    {
      "cell_type": "markdown",
      "source": [
        "#### **3. Предобработка данных MNIST**"
      ],
      "metadata": {
        "id": "4qo5MskKWbZk"
      }
    },
    {
      "cell_type": "code",
      "source": [
        "import torch\n",
        "from torchvision import datasets, transforms\n",
        "\n",
        "device = torch.device('cuda')\n",
        "\n",
        "# Загрузка данных\n",
        "transform = transforms.Compose([\n",
        "    transforms.ToTensor(),  # Конвертирует PIL.Image в тензор\n",
        "    transforms.Normalize((0.5,), (0.5,))\n",
        "])\n",
        "# Загрузка данных\n",
        "train_dataset = datasets.MNIST(\n",
        "    root='./data',\n",
        "    train=True,\n",
        "    download=True,\n",
        "    transform=transform  # Применяем преобразования\n",
        ")\n",
        "\n",
        "test_dataset = datasets.MNIST(\n",
        "    root='./data',\n",
        "    train=False,\n",
        "    transform=transform\n",
        ")\n",
        "\n",
        "\n",
        "\n",
        "# Преобразование в DataLoader\n",
        "batch_size = 128\n",
        "train_loader = torch.utils.data.DataLoader(train_dataset, batch_size=batch_size, shuffle=True)\n",
        "test_loader = torch.utils.data.DataLoader(test_dataset, batch_size=batch_size, shuffle=False)"
      ],
      "metadata": {
        "trusted": true,
        "execution": {
          "iopub.status.busy": "2025-03-17T17:44:33.126067Z",
          "iopub.execute_input": "2025-03-17T17:44:33.127877Z",
          "iopub.status.idle": "2025-03-17T17:44:33.499449Z",
          "shell.execute_reply.started": "2025-03-17T17:44:33.127809Z",
          "shell.execute_reply": "2025-03-17T17:44:33.496751Z"
        },
        "id": "FzMIUL3CWbZk"
      },
      "outputs": [],
      "execution_count": 33
    },
    {
      "cell_type": "markdown",
      "source": [
        "---"
      ],
      "metadata": {
        "id": "Tmpr_hGqWbZl"
      }
    },
    {
      "cell_type": "markdown",
      "source": [
        "#### **4. Определение модели (полносвязная сеть)**"
      ],
      "metadata": {
        "id": "mcphGDsiWbZl"
      }
    },
    {
      "cell_type": "code",
      "source": [
        "import torch.nn as nn\n",
        "\n",
        "class MLP(nn.Module):\n",
        "    def __init__(self):\n",
        "        super(MLP, self).__init__()\n",
        "        self.layers = nn.Sequential(\n",
        "            nn.Flatten(),\n",
        "            nn.Linear(28*28, 512),\n",
        "            nn.ReLU(),\n",
        "            nn.Linear(512, 10)\n",
        "        )\n",
        "\n",
        "    def forward(self, x):\n",
        "        return self.layers(x)\n"
      ],
      "metadata": {
        "trusted": true,
        "execution": {
          "iopub.status.busy": "2025-03-17T17:44:07.495744Z",
          "iopub.execute_input": "2025-03-17T17:44:07.496225Z",
          "iopub.status.idle": "2025-03-17T17:44:07.502149Z",
          "shell.execute_reply.started": "2025-03-17T17:44:07.496194Z",
          "shell.execute_reply": "2025-03-17T17:44:07.50093Z"
        },
        "id": "gGaZWCEMWbZl"
      },
      "outputs": [],
      "execution_count": 34
    },
    {
      "cell_type": "markdown",
      "source": [
        "---"
      ],
      "metadata": {
        "id": "cGCs-gmPWbZl"
      }
    },
    {
      "cell_type": "markdown",
      "source": [
        "#### **5. Инструменты для мониторинга ресурсов**"
      ],
      "metadata": {
        "id": "i4USEyZ8WbZl"
      }
    },
    {
      "cell_type": "code",
      "source": [
        "import time\n",
        "import psutil\n",
        "from memory_profiler import memory_usage\n",
        "\n",
        "def monitor_resources(func):\n",
        "    def wrapper(*args, **kwargs):\n",
        "        start_time = time.time()\n",
        "        start_mem = memory_usage(-1, interval=0.1)[0]\n",
        "        process = psutil.Process()\n",
        "        cpu_percent_start = process.cpu_percent(interval=None)\n",
        "\n",
        "        result = func(*args, **kwargs)\n",
        "\n",
        "        end_time = time.time()\n",
        "        end_mem = memory_usage(-1, interval=0.1)[0]\n",
        "        cpu_percent_end = process.cpu_percent(interval=None)\n",
        "\n",
        "        metrics = {\n",
        "            \"time\": end_time - start_time,\n",
        "            \"memory\": end_mem - start_mem,\n",
        "            \"cpu\": cpu_percent_end - cpu_percent_start\n",
        "        }\n",
        "        return result, metrics\n",
        "    return wrapper\n"
      ],
      "metadata": {
        "trusted": true,
        "execution": {
          "iopub.status.busy": "2025-03-17T17:44:07.50368Z",
          "iopub.execute_input": "2025-03-17T17:44:07.504008Z",
          "iopub.status.idle": "2025-03-17T17:44:07.528673Z",
          "shell.execute_reply.started": "2025-03-17T17:44:07.503968Z",
          "shell.execute_reply": "2025-03-17T17:44:07.527443Z"
        },
        "id": "lf27tV-hWbZm"
      },
      "outputs": [],
      "execution_count": 35
    },
    {
      "cell_type": "markdown",
      "source": [
        "---"
      ],
      "metadata": {
        "id": "zdy8ypb2WbZm"
      }
    },
    {
      "cell_type": "markdown",
      "source": [
        "#### **6. Обучение модели с разными оптимизаторами**"
      ],
      "metadata": {
        "id": "BwLxASTWWbZm"
      }
    },
    {
      "cell_type": "code",
      "source": [
        "@monitor_resources\n",
        "def train_model(optimizer, model, criterion, epochs=5):\n",
        "    model.train()\n",
        "    for epoch in range(epochs):\n",
        "        for data, target in train_loader:\n",
        "            data, target = data.to(device), target.to(device)\n",
        "            def closure():\n",
        "                optimizer.zero_grad()\n",
        "                output = model(data)\n",
        "                loss = criterion(output, target)\n",
        "                loss.backward()\n",
        "                return loss\n",
        "            loss = optimizer.step(closure)\n",
        "    return model\n"
      ],
      "metadata": {
        "trusted": true,
        "execution": {
          "iopub.status.busy": "2025-03-17T17:44:07.529782Z",
          "iopub.execute_input": "2025-03-17T17:44:07.530137Z",
          "iopub.status.idle": "2025-03-17T17:44:07.539139Z",
          "shell.execute_reply.started": "2025-03-17T17:44:07.530107Z",
          "shell.execute_reply": "2025-03-17T17:44:07.538091Z"
        },
        "id": "bxPEJfIdWbZm"
      },
      "outputs": [],
      "execution_count": 36
    },
    {
      "cell_type": "code",
      "source": [
        "def evaluate_model(model, test_loader):\n",
        "    model.eval()  # Переводим модель в режим оценки\n",
        "    correct = 0\n",
        "    total = 0\n",
        "\n",
        "    with torch.no_grad():  # Отключаем вычисление градиентов\n",
        "        for data, targets in test_loader:\n",
        "            data = data.to(device)\n",
        "            targets = targets.to(device)\n",
        "\n",
        "            outputs = model(data)\n",
        "            _, predicted = torch.max(outputs.data, 1)\n",
        "\n",
        "            total += targets.size(0)\n",
        "            correct += (predicted == targets).sum().item()\n",
        "\n",
        "    accuracy = 100 * correct / total\n",
        "    return accuracy"
      ],
      "metadata": {
        "id": "qbFn0QLIW6a-"
      },
      "execution_count": 37,
      "outputs": []
    },
    {
      "cell_type": "markdown",
      "source": [
        "---"
      ],
      "metadata": {
        "id": "wjx_vJ3UWbZm"
      }
    },
    {
      "cell_type": "markdown",
      "source": [
        "#### **7. Сравнение методов**"
      ],
      "metadata": {
        "id": "RAhzISBeWbZm"
      }
    },
    {
      "cell_type": "code",
      "source": [
        "results = {}"
      ],
      "metadata": {
        "id": "hCrtlKMyGFhA"
      },
      "execution_count": 38,
      "outputs": []
    },
    {
      "cell_type": "code",
      "source": [
        "# По своему усмотрению Вы можете добавлять собственные оптимизаторы\n",
        "methods = {\n",
        "    \"Adam\": torch.optim.Adam,\n",
        "    \"L-BFGS\": torch.optim.LBFGS,\n",
        "    \"SGD\": torch.optim.SGD,\n",
        "    \"RMSProp\": torch.optim.RMSprop,\n",
        "    \"RAdam\": torch.optim.RAdam\n",
        "}"
      ],
      "metadata": {
        "id": "yjSw7WNt_Lb9"
      },
      "execution_count": 44,
      "outputs": []
    },
    {
      "cell_type": "code",
      "source": [
        "def get_nn_score(opt):\n",
        "        model = MLP().to(device)\n",
        "        criterion = nn.CrossEntropyLoss()\n",
        "        optimizer = opt(model.parameters())\n",
        "        trained_model, metrics = train_model(optimizer, model, criterion)\n",
        "        accuracy = evaluate_model(trained_model, test_loader)\n",
        "        return {\"accuracy\": accuracy, **metrics}"
      ],
      "metadata": {
        "id": "Ef0gA9fjIECT"
      },
      "execution_count": 39,
      "outputs": []
    },
    {
      "cell_type": "code",
      "source": [
        "# Тренируем и оцениваем все варианты нейронных сетей с разными оптимизаторами (может быть долго, больше часа):\n",
        "# for name, opt in methods.items():\n",
        "   # results[name] = get_nn_score(opt)\n",
        "\n",
        "# Или запускаем модели по одной (безопаснее, если захотим перезапустить или что-то сломается в процессе, чтобы не потерять прогресс)\n",
        "results[\"Adam\"] = get_nn_score(methods[\"Adam\"])"
      ],
      "metadata": {
        "trusted": true,
        "execution": {
          "iopub.status.busy": "2025-03-17T17:47:46.037136Z",
          "iopub.execute_input": "2025-03-17T17:47:46.03754Z",
          "iopub.status.idle": "2025-03-17T17:47:46.212008Z",
          "shell.execute_reply.started": "2025-03-17T17:47:46.037506Z",
          "shell.execute_reply": "2025-03-17T17:47:46.210474Z"
        },
        "id": "CpxaGQYeWbZm"
      },
      "outputs": [],
      "execution_count": 45
    },
    {
      "cell_type": "code",
      "source": [
        "results[\"L-BFGS\"] = get_nn_score(methods[\"L-BFGS\"])"
      ],
      "metadata": {
        "id": "WaZIbguUJQ1-"
      },
      "execution_count": 50,
      "outputs": []
    },
    {
      "cell_type": "code",
      "source": [
        "results[\"SGD\"] = get_nn_score(methods[\"SGD\"])"
      ],
      "metadata": {
        "id": "FF2mNab4FExD"
      },
      "execution_count": 47,
      "outputs": []
    },
    {
      "cell_type": "code",
      "source": [
        "results[\"RMSProp\"] = get_nn_score(methods[\"RMSProp\"])"
      ],
      "metadata": {
        "id": "Brf-3JMFIqZa"
      },
      "execution_count": 48,
      "outputs": []
    },
    {
      "cell_type": "code",
      "source": [
        "results[\"RAdam\"] = get_nn_score(methods[\"RAdam\"])"
      ],
      "metadata": {
        "id": "2sVR47wlOoT8"
      },
      "execution_count": 49,
      "outputs": []
    },
    {
      "cell_type": "markdown",
      "source": [
        "Пока обучаются нейронные сети, можете переходить в раздел 9 к секции А, она не требует результатов запуска нейронных сетей."
      ],
      "metadata": {
        "id": "D0G2b3tHNSQx"
      }
    },
    {
      "cell_type": "markdown",
      "source": [
        "---"
      ],
      "metadata": {
        "id": "Zh_J-PSeWbZm"
      }
    },
    {
      "cell_type": "markdown",
      "source": [
        "#### **8. Визуализация результатов**\n",
        "- **График точности**:"
      ],
      "metadata": {
        "id": "9i8pA59-WbZn"
      }
    },
    {
      "cell_type": "code",
      "source": [
        "  import matplotlib.pyplot as plt\n",
        "\n",
        "  plt.bar(results.keys(), [v[\"accuracy\"] for v in results.values()])\n",
        "  plt.title(\"Accuracy Comparison\")"
      ],
      "metadata": {
        "trusted": true,
        "execution": {
          "iopub.status.busy": "2025-03-17T17:44:07.769564Z",
          "iopub.status.idle": "2025-03-17T17:44:07.769918Z",
          "shell.execute_reply": "2025-03-17T17:44:07.769795Z"
        },
        "id": "7J4FpgGFWbZn",
        "colab": {
          "base_uri": "https://localhost:8080/",
          "height": 469
        },
        "outputId": "7aa127d3-3a90-4f19-d5af-1e03b33667e8"
      },
      "outputs": [
        {
          "output_type": "execute_result",
          "data": {
            "text/plain": [
              "Text(0.5, 1.0, 'Accuracy Comparison')"
            ]
          },
          "metadata": {},
          "execution_count": 51
        },
        {
          "output_type": "display_data",
          "data": {
            "text/plain": [
              "<Figure size 640x480 with 1 Axes>"
            ],
            "image/png": "[encoded data removed]"
          },
          "metadata": {}
        }
      ],
      "execution_count": 51
    },
    {
      "cell_type": "markdown",
      "source": [
        "- **Графики времени обучения**:"
      ],
      "metadata": {
        "id": "ANXKgB_XWbZn"
      }
    },
    {
      "cell_type": "code",
      "source": [
        "  plt.bar(results.keys(), [v[\"time\"] for v in results.values()])\n",
        "  plt.title(\"Training time Comparison\")"
      ],
      "metadata": {
        "trusted": true,
        "id": "a7U_0BMfWbZn",
        "colab": {
          "base_uri": "https://localhost:8080/",
          "height": 469
        },
        "outputId": "044cf807-401d-43b9-fede-83567e9d6355"
      },
      "outputs": [
        {
          "output_type": "execute_result",
          "data": {
            "text/plain": [
              "Text(0.5, 1.0, 'Training time Comparison')"
            ]
          },
          "metadata": {},
          "execution_count": 52
        },
        {
          "output_type": "display_data",
          "data": {
            "text/plain": [
              "<Figure size 640x480 with 1 Axes>"
            ],
            "image/png": "[encoded data removed]"
          },
          "metadata": {}
        }
      ],
      "execution_count": 52
    },
    {
      "cell_type": "markdown",
      "source": [
        "- **Графики пямяти**:"
      ],
      "metadata": {
        "id": "sp5jrPClzO0x"
      }
    },
    {
      "cell_type": "code",
      "source": [
        "  plt.bar(results.keys(), [v[\"memory\"] for v in results.values()])\n",
        "  plt.title(\"Training RAM usage Comparison\")"
      ],
      "metadata": {
        "colab": {
          "base_uri": "https://localhost:8080/",
          "height": 469
        },
        "id": "yPtdwlFfzdAr",
        "outputId": "f0277a2e-d322-4220-e212-23682953d855"
      },
      "execution_count": 53,
      "outputs": [
        {
          "output_type": "execute_result",
          "data": {
            "text/plain": [
              "Text(0.5, 1.0, 'Training RAM usage Comparison')"
            ]
          },
          "metadata": {},
          "execution_count": 53
        },
        {
          "output_type": "display_data",
          "data": {
            "text/plain": [
              "<Figure size 640x480 with 1 Axes>"
            ],
            "image/png": "[encoded data removed]"
          },
          "metadata": {}
        }
      ]
    },
    {
      "cell_type": "markdown",
      "source": [
        "- **График потребления CPU**"
      ],
      "metadata": {
        "id": "vXVSBQ-fzkw-"
      }
    },
    {
      "cell_type": "code",
      "source": [
        "  plt.bar(results.keys(), [v[\"cpu\"] for v in results.values()])\n",
        "  plt.title(\"Training CPU usage Comparison\")"
      ],
      "metadata": {
        "colab": {
          "base_uri": "https://localhost:8080/",
          "height": 469
        },
        "id": "INfsPFArzvLO",
        "outputId": "289cddec-22e7-4f31-c434-59b651340568"
      },
      "execution_count": 54,
      "outputs": [
        {
          "output_type": "execute_result",
          "data": {
            "text/plain": [
              "Text(0.5, 1.0, 'Training CPU usage Comparison')"
            ]
          },
          "metadata": {},
          "execution_count": 54
        },
        {
          "output_type": "display_data",
          "data": {
            "text/plain": [
              "<Figure size 640x480 with 1 Axes>"
            ],
            "image/png": "[encoded data removed]"
          },
          "metadata": {}
        }
      ]
    },
    {
      "cell_type": "markdown",
      "source": [
        "---"
      ],
      "metadata": {
        "id": "YigkYqzsWbZn"
      }
    },
    {
      "cell_type": "markdown",
      "source": [
        "#### **9. Анализ полученных результатов:**\n",
        "\n",
        "### **А. Математические основы методов**\n",
        "1. **Связь с изученными методами**  \n",
        "   - Какой из оптимизаторов (напр., L-BFGS, Adam) ближе всего к методу Ньютона? В чём их сходство и различия?  \n",
        "   - Почему в Adam используется адаптивный шаг, и как это связано с идеями метода градиентного спуска?  \n",
        "   - Для методов второго порядка (например, L-BFGS):  \n",
        "     - Как вычисляется приближение гессиана, и почему это важно для сходимости?  \n",
        "     - Почему полный метод Ньютона редко применяется в глубоком обучении?  \n",
        "\n",
        "*ВАШ КОММЕНТАРИЙ ЗДЕСЬ*\n",
        "\n",
        " - L - BFGS является приближением метода Ньютона. Оба метода используют информацию о второй производной (в случае L - BFGS, это приближенная информация) для ускорения сходимости. Метод Ньютона использует гессиан для определения направления поиска, а L - BFGS приближает гессиан с помощью информации о предыдущих градиентах. Таким образом, они оба пытаются учесть кривизну функции, что позволяет им сходиться к оптимуму быстрее, чем методы первого порядка.\n",
        "\n",
        "Различие: Полный метод Ньютона требует вычисления и обратного матрицы гессиана на каждой итерации, что вычислительно очень дорогостояло, особенно для больших моделей. L - BFGS, с другой стороны, использует ограниченную память для хранения информации о предыдущих градиентах и аппроксимирует гессиан, что делает его более применимым для задач глубокого обучения с большим количеством параметров.\n",
        "\n",
        "- Adam:\n",
        "\n",
        "Adam использует адаптивный шаг, потому что он учитывает как первый момент (среднее значение градиента), так и второй момент (дисперсию градиента). Это позволяет ему адаптировать скорость обучения для каждого параметра модели индивидуально. В идеях метода градиентного спуска, шаг размера определяет, насколько далеко мы движемся в направлении антиградиента на каждой итерации. Adam адаптирует этот шаг, чтобы учитывать темп изменения каждого параметра. Если градиент для определенного параметра стабильно велик, Adam уменьшает шаг, чтобы избежать слишком больших скачков и не пропустить минимум. Если градиент маленький, шаг может быть увеличен, чтобы ускорить сходимость.\n",
        "\n",
        "- Методы второго порядка:\n",
        "\n",
        " - Вычисление приближенного гессиана: В методах второго порядка, таких как L-BFGS, гессиан оценивается с использованием данных о предыдущих градиентах. В основном применяется метод квази-Ньютона, например, формула BFGS. Этот метод обновляет приближение гессиана на основе разниц между текущими и предыдущими градиентами, а также между текущими и старыми значениями параметров. Это имеет важное значение для сходимости, так как гессиан содержит сведения о кривизне функции, что позволяет выбрать более оптимальное направление поиска и ускорить достижение оптимума.\n",
        "\n",
        " - Причины редкого использования полного метода Ньютона: Полный метод Ньютона редко находит применение в глубоком обучении из-за своей высокой вычислительной нагрузки. Вычисление гессиана и его обратной матрицы требует $ O(n^3) $ операций, где n - это число параметров модели. Для современных глубоких нейронных сетей, имеющих миллионы параметров, эта процедура становится невероятно затратной. Кроме того, гессиан может иметь плохую обусловленность, что создает дополнительные трудности при вычислении его обратной матрицы.\n",
        "\n",
        "2. **Алгоритмические особенности**  \n",
        "   - Чем отличается стохастический градиентный спуск (SGD) от полного градиентного спуска? Как это влияет на сходимость?  \n",
        "   - Как метод L-BFGS балансирует между использованием информации о кривизне функции и вычислительной сложностью?  \n",
        "\n",
        "*ВАШ КОММЕНТАРИЙ ЗДЕСЬ*\n",
        "\n",
        "- Различия: Стохастический градиентный спуск (SGD) вычисляет градиент на основе случайного подмножества данных (батча) на каждой итерации, тогда как полный градиентный спуск учитывает весь набор данных для этой вычисляемой величины.\n",
        "\n",
        "Влияние на сходимость: Из-за случайности при выборе данных SGD может демонстрировать больший уровень шума по сравнению с полным градиентным спуском. Тем не менее, такая стратегия также может оказаться более эффективной, так как градиент рассчитывается на меньшем объеме данных, что позволяет чаще обновлять параметры. Это может помочь избежать застревания в локальных минимумах, что является проблемой для полного градиентного спуска. Однако правильный выбор шага обучения и других гиперпараметров для SGD может быть более сложной задачей по сравнению с полным градиентным спуском.\n",
        "\n",
        "- Метод L-BFGS использует ограниченные ресурсы памяти для хранения данных о ранее вычисленных градиентах и создаёт аппроксимацию гессиана. Он учитывает кривизну функции, применяя эту аппроксимацию для нахождения более эффективного направления поиска, аналогично методу Ньютона. Однако, в отличие от полного метода Ньютона, который требует расчёта полного гессиана и его обратной матрицы, L-BFGS применяет компактные представления и базируется на обновлениях, связанных с предыдущими градиентами. Это позволяет снизить вычислительные затраты, сохраняя при этом некоторую информацию о кривизне функции, что обеспечивает более быструю сходимость по сравнению с методами первого порядка, такими как SGD, при более разумной вычислительной сложности, чем у полного метода Ньютона."
      ],
      "metadata": {
        "id": "Sm9cDVb_LEwk"
      }
    },
    {
      "cell_type": "markdown",
      "source": [
        "### **Б. Анализ скорости сходимости**\n",
        "3. **Графики потерь и точности**  \n",
        "   - Почему Adam часто сходится быстрее, чем SGD, несмотря на стохастичность?  \n",
        "   - Если L-BFGS показал медленную сходимость на первых итерациях, но затем резко улучшил результат, чем это может быть объяснено?\n",
        "\n",
        "*ВАШ КОММЕНТАРИЙ ЗДЕСЬ*\n",
        "\n",
        "- Adam комбинирует элементы стохастического градиентного спуска с учетом второй статистики градиента. Он применяет экспоненциально затухающие средние для оценки первого и второго моментов градиента. Это даёт возможность адаптивно изменять шаг обучения для каждого параметра модели, основываясь на его предыдущей градиентной активности. В отличие от SGD, который использует фиксированный шаг обучения для всех параметров, Adam способен более точно настраивать этот шаг, что способствует более быстрой сходимости. Кроме того, Adam лучше справляется с асимметричными и нелинейными функциями потерь по сравнению с SGD, так как его адаптивный шаг обеспечивает более мягкий переход к минимуму.\n",
        "\n",
        "- L-BFGS — это метод второго порядка, который учитывает кривизну функции, используя аппроксимацию гессиана для определения направления поиска. На начальных этапах работы L-BFGS может демонстрировать медленную сходимость, так как ему необходимо собрать достаточно данных о градиенте функции для формирования качественного приближения гессиана. Однако, по мере накопления этой информации, приближение становится более точным, что позволяет методу находить оптимальное направление движения. Это приводит к заметному улучшению результатов на более поздних итерациях.\n",
        "\n",
        "4. **Роль гиперпараметров**  \n",
        "   - Как выбор learning rate влияет на методы:  \n",
        "     - С адаптивным шагом (Adam, RMSProp)?  \n",
        "     - Без адаптивного шага (SGD, L-BFGS)?  \n",
        "   - Почему для L-BFGS часто требуется меньше эпох, но больше времени на одну эпоху?\n",
        "\n",
        "*ВАШ КОММЕНТАРИЙ ЗДЕСЬ*\n",
        "- Как выбор learning rate сказывается на методах с адаптивным шагом (например, Adam, RMSProp): Хотя методы с адаптивным шагом, такие как Adam и RMSProp, корректируют learning rate во время обучения, начальное значение все равно имеет значение. Если learning rate слишком высокий, это может привести к слишком большим шагам в начале, что, в свою очередь, вызывает нестабильность и ухудшение результатов. Тем не менее, благодаря адаптивным механизмам, они обычно способны подстраиваться и постепенно находить более подходящий шаг. В случае слишком низкого learning rate обучение может идти медленно, хотя методы, как правило, все равно достигнут сходимости, но это потребует больше времени.\n",
        "\n",
        "- Как выбор learning rate влияет на методы без адаптивного шага (такие как SGD, L-BFGS): Для несоответствующих методам с адаптивным шагом, таких как SGD и L-BFGS, правильный выбор learning rate является крайне важным. При использовании SGD слишком высокий learning rate может привести к тому, что модель не сойдется или даже начнет расходиться, поскольку шаги будут чрезмерными, и алгоритм не сможет найти минимум. Слишком низкий learning rate также замедлит обучение, и модель может не успеть достичь хорошей точности за разумный срок. В свою очередь, для L-BFGS learning rate также влияет на скорость сходимости. Хотя этот метод применяет более сложные алгоритмы для нахождения направления, слишком высокий learning rate может вызвать нестабильность, а слишком низкий осложнит процесс поиска оптимального решения из-за медленного движения.\n",
        "\n",
        "- L-BFGS опирается на информацию о второй производной (аппроксимацию гессиана) для определения направления поиска, что дает ему возможность более эффективно двигаться к минимуму функции потерь. Благодаря этому он может достигать высокой точности с меньшим числом эпох по сравнению с некоторыми другими методами. Однако вычисление приближения гессиана и определение направления движения в L-BFGS требуют больше вычислительных ресурсов, чем методы первого порядка, такие как SGD или Adam. Кроме того, L-BFGS часто работает с большими батчами данных, чтобы получить более точную оценку градиента и гессиана. В итоге каждая эпоха обучения с использованием L-BFGS занимает больше времени."
      ],
      "metadata": {
        "id": "RTi0ITFcM8PL"
      }
    },
    {
      "cell_type": "markdown",
      "source": [
        "### **5. Связь с теорией нелинейных систем**\n",
        "9. **Интерпретация методов**  \n",
        "   - Как метод Ньютона для систем нелинейных уравнений связан с оптимизацией в глубоком обучении?  \n",
        "   - Почему в SGD используется приближённый градиент, и как это влияет на устойчивость метода?\n",
        "\n",
        "*ВАШ КОММЕНТАРИЙ ЗДЕСЬ*\n",
        "\n",
        "- Метод Ньютона для нелинейных систем уравнений находит корни через минимизацию функции ошибки. В контексте глубокого обучения мы также стремимся минимизировать функцию потерь. Этот метод использует гессиан (матрицу вторых производных) функции ошибки для определения направления и размера шага к минимуму. В случае нейронных сетей обновление весов модели можно рассматривать как процесс поиска решения системы нелинейных уравнений, где функция потерь зависит от параметров модели.\n",
        "\n",
        "- В SGD применяется приближённый градиент, так как вычисление точного градиента по всему набору данных, как это делается в полном градиентном спуске, требует значительных вычислительных ресурсов, особенно при работе с большими данными. SGD рассчитывает градиент на случайно выбранном подмножестве (батче) данных, что значительно ускоряет обучение. Этот подход к вычислению градиента делает метод более устойчивым к шумам в данных, поскольку каждое вычисление основано на новом случайном подмножестве. Кроме того, небольшие случайные изменения в направлении обновления весов, происходящие при использовании приближённого градиента, могут помочь модели избежать застревания в локальных минимумах, что также повышает её устойчивость.\n",
        "\n",
        "10. **Проблемы реализации**  \n",
        "    - Какие численные проблемы возникают при вычислении гессиана в методах второго порядка (например, L-BFGS)?  \n",
        "    - Как методы вроде Adam избегают проблем \"застревания\" в локальных минимумах?  \n",
        "\n",
        "*ВАШ КОММЕНТАРИЙ ЗДЕСЬ*\n",
        "\n",
        "- Расчет гессиана требует значительных вычислительных ресурсов, так как для матрицы гессиана размером $ n×n $, где $ n $ — количество параметров модели, необходимо вычислить $ n(n+1)/2 $ элементов. Кроме того, гессиан может быть плохо обусловленным, что вызывает неустойчивость в вычислениях и делает метод чувствительным к выбранным начальными условиями. Также стоит отметить, что процесс вычисления гессиана может занимать много времени, особенно для больших нейронных сетей с множеством параметров.\n",
        "\n",
        "- Adam применяет адаптивный шаг, который учитывает как первый момент (среднее значение градиента), так и второй момент (дисперсию градиента). Это позволяет ему автоматически регулировать размер шага в зависимости от изменений функции потерь. Когда модель приближается к локальному минимуму, градиент уменьшается, и Adam соответственно уменьшает размер шага, чтобы не \"перескочить\" через минимум. Однако, если модель оказывается в плохом локальном минимуме с градиентом, близким к нулю, Adam способен совершать небольшие движения в разных направлениях благодаря случайному элементу в стохастическом градиенте, что может помочь избежать длительного застревания в этом минимуме."
      ],
      "metadata": {
        "id": "t_83ZYv4N0ht"
      }
    },
    {
      "cell_type": "markdown",
      "source": [
        "#### **10. Что ещё можно попробовать для этого набора данных?**\n",
        "- Метод [forward gradient descent](https://github.com/orobix/fwdgrad).\n",
        "- Оптимизаторы из других библиотек, например, [SciPy](https://docs.scipy.org/doc/scipy/reference/generated/scipy.optimize.minimize.html), [TensorFlow / Keras](https://www.tensorflow.org/api_docs/python/tf/keras/optimizers)."
      ],
      "metadata": {
        "id": "XfF6g6G5WbZn"
      }
    }
  ]
}